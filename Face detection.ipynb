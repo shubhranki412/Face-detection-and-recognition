{
 "cells": [
  {
   "cell_type": "code",
   "execution_count": 1,
   "id": "96792ead",
   "metadata": {},
   "outputs": [
    {
     "name": "stdout",
     "output_type": "stream",
     "text": [
      "True\n"
     ]
    }
   ],
   "source": [
    "import cv2 as cv\n",
    "vid = cv.VideoCapture(0)\n",
    "  \n",
    "while(True):\n",
    "   \n",
    "    ret, frame = vid.read()\n",
    "  \n",
    "    cv.imshow('frame', frame)\n",
    "           \n",
    "    if cv.waitKey(1) & 0xFF == ord('q'):\n",
    "        break\n",
    "    if cv.waitKey(1) & 0xFF == ord(' '):   \n",
    "        cv.imwrite('C:\\\\Users\\\\mshub\\\\Open CV\\\\image1.jpg', frame)  \n",
    "        break\n",
    "        \n",
    "print(ret)\n",
    "vid.release()\n",
    "cv.destroyAllWindows()\n",
    "\n"
   ]
  },
  {
   "cell_type": "code",
   "execution_count": 3,
   "id": "493dfddd",
   "metadata": {},
   "outputs": [
    {
     "data": {
      "text/plain": [
       "-1"
      ]
     },
     "execution_count": 3,
     "metadata": {},
     "output_type": "execute_result"
    }
   ],
   "source": [
    "  \n",
    "img = cv.imread('image1.jpg')\n",
    "  \n",
    "gray_img = cv.cvtColor(img, cv.COLOR_BGR2GRAY)\n",
    "  \n",
    "haar_cascade = cv.CascadeClassifier('haarcascade_frontalface_default.xml')\n",
    "  \n",
    "# Applying the face detection method on the grayscale image\n",
    "#(gray image,scale factor,minneighbours)\n",
    "faces_rect = haar_cascade.detectMultiScale(gray_img, 1.1, 9)\n",
    "  \n",
    "# Iterating through rectangles of detected faces\n",
    "#x,y=points w,h=width,hieght\n",
    "#cv2.rectangle(original image,starting point,ending point,colour of the box,width of the box)\n",
    "for (x, y, w, h) in faces_rect:\n",
    "    cv2.rectangle(img, (x, y), (x+w, y+h), (0, 255, 0), 2)\n",
    "  \n",
    "cv.imshow('Detected faces', img)\n",
    "  \n",
    "cv.waitKey(0)"
   ]
  },
  {
   "cell_type": "code",
   "execution_count": null,
   "id": "54b58f1b",
   "metadata": {},
   "outputs": [],
   "source": []
  }
 ],
 "metadata": {
  "kernelspec": {
   "display_name": "Python 3 (ipykernel)",
   "language": "python",
   "name": "python3"
  },
  "language_info": {
   "codemirror_mode": {
    "name": "ipython",
    "version": 3
   },
   "file_extension": ".py",
   "mimetype": "text/x-python",
   "name": "python",
   "nbconvert_exporter": "python",
   "pygments_lexer": "ipython3",
   "version": "3.9.12"
  }
 },
 "nbformat": 4,
 "nbformat_minor": 5
}

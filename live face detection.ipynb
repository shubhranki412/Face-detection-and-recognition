{
 "cells": [
  {
   "cell_type": "code",
   "execution_count": 24,
   "id": "9c0c1edf",
   "metadata": {},
   "outputs": [
    {
     "name": "stdout",
     "output_type": "stream",
     "text": [
      "True\n"
     ]
    }
   ],
   "source": [
    "import cv2 as cv\n",
    "vid = cv.VideoCapture(0)\n",
    "haar_cascade = cv.CascadeClassifier('haarcascade_frontalface_default.xml')\n",
    "  \n",
    "while(True):\n",
    "   \n",
    "    ret, frame = vid.read()\n",
    "         \n",
    "    gray_frame = cv.cvtColor(frame, cv.COLOR_BGR2GRAY)\n",
    "    \n",
    "\n",
    "    # Applying the face detection method on the grayscale image\n",
    "    #(gray image,scale factor,minneighbours)\n",
    "    faces_rect = haar_cascade.detectMultiScale(frame, 1.1, 9)\n",
    "\n",
    "    # Iterating through rectangles of detected faces\n",
    "    #x,y=points w,h=width,hieght\n",
    "    #cv2.rectangle(original image,starting point,ending point,colour of the box,width of the box)\n",
    "    for (x, y, w, h) in faces_rect:\n",
    "        cv.rectangle(frame, (x, y), (x+w, y+h), (0, 255, 0), 2)\n",
    "  \n",
    "    cv.imshow('Detected faces', frame)\n",
    "            \n",
    "    if cv.waitKey(5) & 0xFF == ord('q'):\n",
    "        break\n",
    "    \n",
    "        \n",
    "print(ret)\n",
    "vid.release()\n",
    "cv.destroyAllWindows()"
   ]
  },
  {
   "cell_type": "code",
   "execution_count": null,
   "id": "752951c4",
   "metadata": {},
   "outputs": [],
   "source": []
  }
 ],
 "metadata": {
  "kernelspec": {
   "display_name": "Python 3 (ipykernel)",
   "language": "python",
   "name": "python3"
  },
  "language_info": {
   "codemirror_mode": {
    "name": "ipython",
    "version": 3
   },
   "file_extension": ".py",
   "mimetype": "text/x-python",
   "name": "python",
   "nbconvert_exporter": "python",
   "pygments_lexer": "ipython3",
   "version": "3.9.12"
  }
 },
 "nbformat": 4,
 "nbformat_minor": 5
}
